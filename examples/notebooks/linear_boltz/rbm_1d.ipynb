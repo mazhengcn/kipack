{
 "cells": [
  {
   "cell_type": "code",
   "execution_count": null,
   "metadata": {},
   "outputs": [],
   "source": [
    "%reload_ext autoreload\n",
    "%autoreload 2\n",
    "%matplotlib inline\n",
    "\n",
    "import os\n",
    "os.chdir(\"/workspaces/kipack/examples\")"
   ]
  },
  {
   "cell_type": "code",
   "execution_count": null,
   "metadata": {},
   "outputs": [],
   "source": [
    "import numpy as np\n",
    "# from examples.linear_transport.rbm_1d_ap import run, maxwellian_vec_init\n",
    "from linear_boltz.rbm_1d import run, maxwellian_vec_init\n",
    "\n",
    "# x = np.arange(0.025, 1.025, 0.025)\n",
    "# Parameters\n",
    "kn = lambda x: 1.0\n",
    "\n",
    "# cross section\n",
    "omega, C = 1.0, 50 * np.exp(1.0)\n",
    "smooth_delta = lambda v: np.exp(-C * v**2)\n",
    "\n",
    "def sigma(v, w):\n",
    "    tmp = (np.exp(-v**2) * smooth_delta(v**2 - w**2 + omega) \n",
    "    + np.exp(-w**2) * smooth_delta(v**2 - w**2 - omega))\n",
    "    return 1 / np.sqrt(np.pi) * tmp\n",
    "\n",
    "\n",
    "G = lambda x: 1.0\n",
    "xmin = 0.0\n",
    "xmax = 1.0\n",
    "nx = 100\n",
    "dx = (xmax - xmin) / nx\n",
    "dt = 0.0001\n",
    "nt = 2000\n",
    "BC = \"dirichlet\"\n",
    "f_l = lambda v: 0.0\n",
    "f_r = lambda v: 0.0\n",
    "scheme = \"Euler\"\n",
    "# init_func = maxwellian_vec_init\n",
    "init_func = lambda vmesh, rho, u, T: 0.0"
   ]
  },
  {
   "cell_type": "code",
   "execution_count": null,
   "metadata": {
    "tags": []
   },
   "outputs": [],
   "source": [
    "output_ref = run(kn=kn, sigma=sigma, G=G,\n",
    "                 xmin=xmin, xmax=xmax, nx=nx, dt=dt, nt=nt,\n",
    "                 BC=BC, f_l=f_l, f_r=f_r,\n",
    "                 coll=\"linear\", scheme=scheme,\n",
    "                 init_func=init_func)"
   ]
  },
  {
   "cell_type": "code",
   "execution_count": null,
   "metadata": {
    "tags": []
   },
   "outputs": [],
   "source": [
    "output_rbm = run(kn=kn, sigma=sigma, G=G,\n",
    "                 xmin=xmin, xmax=xmax, nx=nx, dt=dt, nt=nt,\n",
    "                 BC=BC, f_l=f_l, f_r=f_r,\n",
    "                 coll=\"rbm\", scheme=scheme,\n",
    "                 init_func=init_func)"
   ]
  },
  {
   "cell_type": "code",
   "execution_count": null,
   "metadata": {},
   "outputs": [],
   "source": [
    "output_rbm_symm = run(kn=kn, sigma=sigma, G=G,\n",
    "                      xmin=xmin, xmax=xmax, nx=nx, dt=dt, nt=nt,\n",
    "                      BC=BC, f_l=f_l, f_r=f_r,\n",
    "                      coll=\"rbm_symm\", scheme=scheme,\n",
    "                      init_func=init_func)"
   ]
  },
  {
   "cell_type": "code",
   "execution_count": null,
   "metadata": {
    "tags": []
   },
   "outputs": [],
   "source": [
    "import numpy as np\n",
    "import matplotlib.pyplot as plt\n",
    "\n",
    "t_idx = -1\n",
    "\n",
    "fig, (ax1, ax2, ax3) = plt.subplots(1, 3, figsize=(20,5))\n",
    "\n",
    "# ref_loaded = np.load(\"./data/ref.npz\")\n",
    "macro_ref = output_ref[\"macro_frames\"]\n",
    "# macro_ref = ref_loaded[\"macro_frames\"]\n",
    "macro_rbm = output_rbm[\"macro_frames\"]\n",
    "macro_rbm_symm = output_rbm_symm[\"macro_frames\"]\n",
    "\n",
    "# ref_x = ref_loaded[\"x\"]\n",
    "x = output_rbm[\"x\"]\n",
    "t = output_rbm[\"t\"]\n",
    "\n",
    "ax1.plot(x, macro_ref[t_idx], label=\"Ref\")\n",
    "# ax1.plot(np.concatenate([np.array([0.0]), ref_x, np.array([11.0])]), np.concatenate([np.array([0.0]), macro_ref[t_idx], np.array([0.0])]), label=r\"Ref:$t=100$ with \")\n",
    "# ax1.plot(x, macro_ref[t_idx], markevery=1, label=r\"RBM:$t=100$\")\n",
    "ax1.plot(x, macro_rbm[t_idx], \"o\", markevery=1, label=r\"RBM:$t=0.2$\")\n",
    "# ax1.plot(x, macro_ref[250], label=r\"Ref:$t=0.05$\")\n",
    "# ax1.plot(x, macro_rbm[250], \"o\", markevery=1, label=r\"RBM:$t=0.05$\")\n",
    "# ax1.plot(x, macro_ref[50], label=r\"Ref:$t=0.01$\")\n",
    "# ax1.plot(x, macro_rbm[50], \"s\", markevery=1, label=r\"RBM:$t=0.01$\")\n",
    "ax1.set_xlabel(r\"$x$\", fontsize=14)\n",
    "ax1.set_ylabel(r\"$\\rho$\", fontsize=14)\n",
    "ax1.legend()\n",
    "\n",
    "ax2.plot(x, macro_ref[t_idx], label=\"Ref\")\n",
    "# ax2.plot(x, macro_rbm_symm[t_idx], \"o\", markevery=1, label=\"RBM-Symm\")\n",
    "# ax2.plot(np.concatenate([np.array([0.0]), ref_x, np.array([11.0])]), np.concatenate([np.array([0.0]), macro_ref[t_idx], np.array([0.0])]), label=r\"Ref:$t=100$\")\n",
    "ax2.plot(x, macro_rbm_symm[t_idx], \"o\", markevery=1, label=r\"RBM-Symm:$t=4$\")\n",
    "# ax2.plot(x, macro_ref[250], label=r\"Ref:$t=0.05$\")\n",
    "# ax2.plot(x, macro_rbm_symm[250], \"o\", markevery=1, label=r\"RBM-Symm:$t=0.05$\")\n",
    "# ax2.plot(x, macro_ref[50], label=r\"Ref:$t=0.01$\")\n",
    "# ax2.plot(x, macro_rbm_symm[50], \"s\", markevery=1, label=r\"RBM-Symm:$t=0.01$\")\n",
    "ax2.set_xlabel(r\"$x$\", fontsize=14)\n",
    "ax2.set_ylabel(r\"$\\rho$\", fontsize=14)\n",
    "ax2.legend()\n",
    "\n",
    "rho_errs_rbm = [np.sqrt(np.sum((macro_rbm[t_idx] - macro_ref[t_idx]) ** 2) * dx) for t_idx in range(nt+1)]\n",
    "rho_errs_rbm_symm = [np.sqrt(np.sum((macro_rbm_symm[t_idx] - macro_ref[t_idx]) ** 2) * dx) for t_idx in range(nt+1)]\n",
    "ax3.plot(t, rho_errs_rbm, label=\"RBM\")\n",
    "ax3.plot(t, rho_errs_rbm_symm, label=\"RBM-Symm\")\n",
    "ax3.set_xlabel(r\"$t$\", fontsize=14)\n",
    "ax3.set_ylabel(r\"$\\ell^2$ error of $\\rho$\", fontsize=14)\n",
    "ax3.legend()"
   ]
  }
 ],
 "metadata": {
  "kernelspec": {
   "display_name": "Python 3",
   "language": "python",
   "name": "python3"
  },
  "language_info": {
   "codemirror_mode": {
    "name": "ipython",
    "version": 3
   },
   "file_extension": ".py",
   "mimetype": "text/x-python",
   "name": "python",
   "nbconvert_exporter": "python",
   "pygments_lexer": "ipython3",
   "version": "3.11.3"
  }
 },
 "nbformat": 4,
 "nbformat_minor": 4
}
