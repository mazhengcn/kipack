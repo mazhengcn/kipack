{
 "cells": [
  {
   "cell_type": "markdown",
   "metadata": {},
   "source": [
    "# The fast spectral method for 2D"
   ]
  },
  {
   "cell_type": "code",
   "execution_count": 4,
   "metadata": {},
   "outputs": [],
   "source": [
    "import numpy as np\n",
    "from math import pi\n",
    "from absl import logging\n",
    "import time\n",
    "\n",
    "logging.set_verbosity(\"info\")\n"
   ]
  },
  {
   "cell_type": "code",
   "execution_count": 5,
   "metadata": {},
   "outputs": [],
   "source": [
    "from kipack.collision.inelastic import FSInelasticVHSCollision\n",
    "from kipack.collision.vmesh import SpectralMesh\n",
    "from config_2d import get_config\n"
   ]
  },
  {
   "cell_type": "code",
   "execution_count": 6,
   "metadata": {},
   "outputs": [],
   "source": [
    "def bkw_f(v):\n",
    "    t = 0.5\n",
    "    K = 1 - 0.5 * np.exp(-t / 8)\n",
    "    v_norm = (v ** 2)[:, None] + v ** 2\n",
    "    return (\n",
    "        1\n",
    "        / (2 * pi * K ** 2)\n",
    "        * np.exp(-0.5 * v_norm / K)\n",
    "        * (2 * K - 1 + 0.5 * v_norm * (1 - K) / K)\n",
    "    )\n",
    "\n",
    "\n",
    "def ext_Q(v):\n",
    "    t = 0.5\n",
    "    K = 1 - np.exp(-t / 8) / 2\n",
    "    dK = np.exp(-t / 8) / 16\n",
    "    v_norm = (v ** 2)[:, None] + v ** 2\n",
    "    df = (-2 / K + v_norm / (2 * K ** 2)) * bkw_f(v) + 1 / (\n",
    "        2 * pi * K ** 2\n",
    "    ) * np.exp(-v_norm / (2 * K)) * (2 - v_norm / (2 * K ** 2))\n",
    "    return df * dK\n"
   ]
  },
  {
   "cell_type": "code",
   "execution_count": 7,
   "metadata": {},
   "outputs": [
    {
     "name": "stderr",
     "output_type": "stream",
     "text": [
      "INFO:absl:2 dimensional collision model.\n",
      "INFO:absl:Number of velocity cells: 64.\n",
      "INFO:absl:Velocity domain: [-7.724873734152916, 7.724873734152916].\n",
      "INFO:absl:e: 1.0\n",
      "INFO:absl:Collision model precomputation finished!\n"
     ]
    }
   ],
   "source": [
    "cfg = get_config()\n",
    "vmesh = SpectralMesh(cfg)\n",
    "coll = FSInelasticVHSCollision(cfg, vmesh)\n"
   ]
  },
  {
   "cell_type": "code",
   "execution_count": 9,
   "metadata": {},
   "outputs": [
    {
     "name": "stdout",
     "output_type": "stream",
     "text": [
      "Runtime: 5.40ms, error: 1.7104168583484674e-11\n"
     ]
    }
   ],
   "source": [
    "t_0 = time.time()\n",
    "Q = coll(bkw_f(vmesh.center), device=\"gpu\")\n",
    "dt = time.time() - t_0\n",
    "\n",
    "print(\n",
    "    f\"Runtime: {1000* dt:.2f}ms, error: {np.max(np.abs(Q - ext_Q(vmesh.center)))}\"\n",
    ")\n"
   ]
  }
 ],
 "metadata": {
  "kernelspec": {
   "display_name": "Python 3",
   "language": "python",
   "name": "python3"
  },
  "language_info": {
   "codemirror_mode": {
    "name": "ipython",
    "version": 3
   },
   "file_extension": ".py",
   "mimetype": "text/x-python",
   "name": "python",
   "nbconvert_exporter": "python",
   "pygments_lexer": "ipython3",
   "version": "3.10.1"
  }
 },
 "nbformat": 4,
 "nbformat_minor": 4
}
