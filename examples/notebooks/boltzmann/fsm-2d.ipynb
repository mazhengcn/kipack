{
 "cells": [
  {
   "cell_type": "markdown",
   "metadata": {},
   "source": [
    "# The fast spectral method for 2D"
   ]
  },
  {
   "cell_type": "code",
   "execution_count": 1,
   "metadata": {},
   "outputs": [],
   "source": [
    "import numpy as np\n",
    "from math import pi\n",
    "from absl import logging\n",
    "import time\n",
    "import jax\n",
    "\n",
    "logging.set_verbosity(\"info\")"
   ]
  },
  {
   "cell_type": "code",
   "execution_count": 2,
   "metadata": {},
   "outputs": [],
   "source": [
    "from kipack.collision.inelastic import FSInelasticVHSCollision\n",
    "from kipack.collision import SpectralMesh\n",
    "from config import get_config"
   ]
  },
  {
   "cell_type": "code",
   "execution_count": 3,
   "metadata": {},
   "outputs": [],
   "source": [
    "def bkw_f(v):\n",
    "    t = 0.5\n",
    "    K = 1 - 0.5 * np.exp(-t / 8)\n",
    "    v_norm = (v**2)[:, None] + v**2\n",
    "    return (\n",
    "        1\n",
    "        / (2 * pi * K**2)\n",
    "        * np.exp(-0.5 * v_norm / K)\n",
    "        * (2 * K - 1 + 0.5 * v_norm * (1 - K) / K)\n",
    "    )\n",
    "\n",
    "\n",
    "def ext_Q(v):\n",
    "    t = 0.5\n",
    "    K = 1 - np.exp(-t / 8) / 2\n",
    "    dK = np.exp(-t / 8) / 16\n",
    "    v_norm = (v**2)[:, None] + v**2\n",
    "    df = (-2 / K + v_norm / (2 * K**2)) * bkw_f(v) + 1 / (\n",
    "        2 * pi * K**2\n",
    "    ) * np.exp(-v_norm / (2 * K)) * (2 - v_norm / (2 * K**2))\n",
    "    return df * dK"
   ]
  },
  {
   "cell_type": "code",
   "execution_count": 4,
   "metadata": {},
   "outputs": [
    {
     "name": "stderr",
     "output_type": "stream",
     "text": [
      "INFO:absl:2 dimensional collision model.\n",
      "INFO:absl:Number of velocity cells: 64.\n",
      "INFO:absl:Velocity domain: [-7.724873734152916, 7.724873734152916].\n"
     ]
    }
   ],
   "source": [
    "cfg = get_config(\"2d\")\n",
    "vmesh = SpectralMesh(cfg)"
   ]
  },
  {
   "cell_type": "markdown",
   "metadata": {},
   "source": [
    "## On CPU using pyFFTW"
   ]
  },
  {
   "cell_type": "code",
   "execution_count": 7,
   "metadata": {},
   "outputs": [
    {
     "name": "stderr",
     "output_type": "stream",
     "text": [
      "INFO:absl:e: 1.0\n",
      "INFO:absl:Collision model precomputation finishes!\n"
     ]
    },
    {
     "name": "stdout",
     "output_type": "stream",
     "text": [
      "Runtime: 309.40ms, error: 1.7104188186368172e-11\n"
     ]
    }
   ],
   "source": [
    "coll_pyfftw = FSInelasticVHSCollision(cfg, vmesh, use_pyfftw=True)\n",
    "\n",
    "t_0 = time.time()\n",
    "Q = coll_pyfftw(bkw_f(vmesh.center))\n",
    "dt = time.time() - t_0\n",
    "\n",
    "print(\n",
    "    f\"Runtime: {1000* dt:.2f}ms, error: {np.max(np.abs(Q - ext_Q(vmesh.center)))}\"\n",
    ")"
   ]
  },
  {
   "cell_type": "markdown",
   "metadata": {},
   "source": [
    "## On GPU using Cupy"
   ]
  },
  {
   "cell_type": "code",
   "execution_count": 8,
   "metadata": {},
   "outputs": [
    {
     "name": "stderr",
     "output_type": "stream",
     "text": [
      "INFO:absl:e: 1.0\n"
     ]
    }
   ],
   "source": [
    "coll_jax = FSInelasticVHSCollision(cfg, vmesh)\n",
    "coll = jax.jit(lambda x: coll_jax(x))"
   ]
  },
  {
   "cell_type": "code",
   "execution_count": 12,
   "metadata": {},
   "outputs": [
    {
     "name": "stdout",
     "output_type": "stream",
     "text": [
      "Runtime: 2.30ms, error: 5.21540641784668e-08\n"
     ]
    }
   ],
   "source": [
    "t_0 = time.time()\n",
    "Q = coll(bkw_f(vmesh.center))\n",
    "dt = time.time() - t_0\n",
    "\n",
    "print(\n",
    "    f\"Runtime: {1000* dt:.2f}ms, error: {np.max(np.abs(Q - ext_Q(vmesh.center)))}\"\n",
    ")"
   ]
  }
 ],
 "metadata": {
  "kernelspec": {
   "display_name": "Python 3",
   "language": "python",
   "name": "python3"
  },
  "language_info": {
   "codemirror_mode": {
    "name": "ipython",
    "version": 3
   },
   "file_extension": ".py",
   "mimetype": "text/x-python",
   "name": "python",
   "nbconvert_exporter": "python",
   "pygments_lexer": "ipython3",
   "version": "3.11.3"
  }
 },
 "nbformat": 4,
 "nbformat_minor": 4
}
