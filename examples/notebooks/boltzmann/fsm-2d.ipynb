{
 "cells": [
  {
   "cell_type": "markdown",
   "metadata": {},
   "source": [
    "# The fast spectral method for 2D"
   ]
  },
  {
   "cell_type": "code",
   "execution_count": null,
   "metadata": {},
   "outputs": [],
   "source": [
    "import numpy as np\n",
    "from math import pi\n",
    "from absl import logging\n",
    "import time\n",
    "\n",
    "logging.set_verbosity(\"info\")"
   ]
  },
  {
   "cell_type": "code",
   "execution_count": null,
   "metadata": {},
   "outputs": [],
   "source": [
    "from kipack.collision.inelastic import FSInelasticVHSCollision\n",
    "from kipack.collision import SpectralMesh\n",
    "from config import get_config"
   ]
  },
  {
   "cell_type": "code",
   "execution_count": null,
   "metadata": {},
   "outputs": [],
   "source": [
    "def bkw_f(v):\n",
    "    t = 0.5\n",
    "    K = 1 - 0.5 * np.exp(-t / 8)\n",
    "    v_norm = (v**2)[:, None] + v**2\n",
    "    return (\n",
    "        1\n",
    "        / (2 * pi * K**2)\n",
    "        * np.exp(-0.5 * v_norm / K)\n",
    "        * (2 * K - 1 + 0.5 * v_norm * (1 - K) / K)\n",
    "    )\n",
    "\n",
    "\n",
    "def ext_Q(v):\n",
    "    t = 0.5\n",
    "    K = 1 - np.exp(-t / 8) / 2\n",
    "    dK = np.exp(-t / 8) / 16\n",
    "    v_norm = (v**2)[:, None] + v**2\n",
    "    df = (-2 / K + v_norm / (2 * K**2)) * bkw_f(v) + 1 / (\n",
    "        2 * pi * K**2\n",
    "    ) * np.exp(-v_norm / (2 * K)) * (2 - v_norm / (2 * K**2))\n",
    "    return df * dK"
   ]
  },
  {
   "cell_type": "code",
   "execution_count": null,
   "metadata": {},
   "outputs": [],
   "source": [
    "cfg = get_config(\"2d\")\n",
    "vmesh = SpectralMesh(cfg)\n",
    "coll = FSInelasticVHSCollision(cfg, vmesh)"
   ]
  },
  {
   "cell_type": "markdown",
   "metadata": {},
   "source": [
    "## On CPU using pyFFTW"
   ]
  },
  {
   "cell_type": "code",
   "execution_count": null,
   "metadata": {},
   "outputs": [],
   "source": [
    "t_0 = time.time()\n",
    "Q = coll(bkw_f(vmesh.center), device=\"cpu\")\n",
    "dt = time.time() - t_0\n",
    "\n",
    "print(\n",
    "    f\"Runtime: {1000* dt:.2f}ms, error: {np.max(np.abs(Q - ext_Q(vmesh.center)))}\"\n",
    ")"
   ]
  },
  {
   "cell_type": "markdown",
   "metadata": {},
   "source": [
    "## On GPU using Cupy"
   ]
  },
  {
   "cell_type": "code",
   "execution_count": null,
   "metadata": {},
   "outputs": [],
   "source": [
    "import jax\n",
    "\n",
    "\n",
    "@jax.jit\n",
    "def coll_gpu(x):\n",
    "    return coll(x, device=\"gpu\")"
   ]
  },
  {
   "cell_type": "code",
   "execution_count": null,
   "metadata": {},
   "outputs": [],
   "source": [
    "t_0 = time.time()\n",
    "Q = coll_gpu(bkw_f(vmesh.center))\n",
    "dt = time.time() - t_0\n",
    "\n",
    "print(\n",
    "    f\"Runtime: {1000* dt:.2f}ms, error: {np.max(np.abs(Q - ext_Q(vmesh.center)))}\"\n",
    ")"
   ]
  }
 ],
 "metadata": {
  "kernelspec": {
   "display_name": "Python 3",
   "language": "python",
   "name": "python3"
  },
  "language_info": {
   "codemirror_mode": {
    "name": "ipython",
    "version": 3
   },
   "file_extension": ".py",
   "mimetype": "text/x-python",
   "name": "python",
   "nbconvert_exporter": "python",
   "pygments_lexer": "ipython3",
   "version": "3.11.2"
  }
 },
 "nbformat": 4,
 "nbformat_minor": 4
}
