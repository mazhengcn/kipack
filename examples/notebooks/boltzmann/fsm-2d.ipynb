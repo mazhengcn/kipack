{
 "cells": [
  {
   "cell_type": "markdown",
   "metadata": {},
   "source": [
    "# The fast spectral method"
   ]
  },
  {
   "cell_type": "code",
   "execution_count": 3,
   "metadata": {},
   "outputs": [],
   "source": [
    "%matplotlib inline\n",
    "import numpy as np\n",
    "from math import pi\n",
    "from scipy import special\n",
    "import matplotlib.pyplot as plt\n",
    "import pyfftw\n",
    "import cupy as cp\n",
    "\n",
    "# import os\n",
    "# os.chdir('../../../src')\n",
    "\n",
    "from pykinetic.collision.fast_spec_col_2d import FastSpectralCollision2D\n",
    "from utility import get_config, plot_2d"
   ]
  },
  {
   "cell_type": "code",
   "execution_count": 2,
   "metadata": {},
   "outputs": [],
   "source": [
    "def bkw_f(v):\n",
    "    t = 0.5\n",
    "    K = 1 - 0.5*np.exp(-t/8)\n",
    "    v_norm = (v**2)[:,None] + v**2\n",
    "    return 1/(2*pi*K**2)*np.exp(-0.5*v_norm/K)*(2*K-1+0.5*v_norm*(1-K)/K)\n",
    "\n",
    "def ext_Q(v):\n",
    "    t = 0.5\n",
    "    K = 1 - np.exp(-t/8)/2\n",
    "    dK = np.exp(-t/8)/16\n",
    "    v_norm = (v**2)[:,None] + v**2\n",
    "    df = (-2/K+v_norm/(2*K**2))*bkw_f(v) + 1/(2*pi*K**2)*np.exp(-v_norm/(2*K))*(2-v_norm/(2*K**2))\n",
    "    return df*dK"
   ]
  },
  {
   "cell_type": "code",
   "execution_count": 3,
   "metadata": {},
   "outputs": [],
   "source": [
    "config = get_config('./configs/config_0d_2d.json')\n",
    "config.e = 1\n",
    "Q = FastSpectralCollision2D(config)"
   ]
  },
  {
   "cell_type": "code",
   "execution_count": 4,
   "metadata": {},
   "outputs": [],
   "source": [
    "getattr(Q, 'e')"
   ]
  },
  {
   "cell_type": "code",
   "execution_count": 5,
   "metadata": {},
   "outputs": [],
   "source": [
    "f0 = bkw_f(Q.v)\n",
    "plot_2d(f0, Q.v, 0)"
   ]
  },
  {
   "cell_type": "code",
   "execution_count": 20,
   "metadata": {},
   "outputs": [],
   "source": [
    "%time Q1 = Q.col_new(bkw_f(Q.v))\n",
    "%time Q2 = Q.col_sep(bkw_f(Q.v))\n",
    "%time Q3 = Q.col_sep_gpu_copy(bkw_f(Q.v))\n",
    "np.max(np.abs(Q1 - ext_Q(Q.v))), np.max(np.abs(Q2 - ext_Q(Q.v))), np.max(np.abs(Q3 - ext_Q(Q.v)))"
   ]
  },
  {
   "cell_type": "code",
   "execution_count": 11,
   "metadata": {},
   "outputs": [],
   "source": [
    "from configparser import ConfigParser\n",
    "from collisionV2.spectral_mesh import SpectralMesh\n",
    "from collisionV2.inelastic_collisions import FSInelasticVHSCollision\n",
    "\n",
    "cfg = ConfigParser()\n",
    "cfg.read('./collisionV2/vhs-2d.ini')\n",
    "\n",
    "vm = SpectralMesh(cfg)\n",
    "Q_new = FSInelasticVHSCollision(cfg, vm)"
   ]
  },
  {
   "cell_type": "code",
   "execution_count": 17,
   "metadata": {},
   "outputs": [],
   "source": [
    "%time Q4 = Q_new(bkw_f(Q.v), device='gpu')\n",
    "%time Q5 = Q.col_sep(bkw_f(Q.v))\n",
    "np.max(np.abs(Q4 - Q5))"
   ]
  },
  {
   "cell_type": "code",
   "execution_count": 33,
   "metadata": {},
   "outputs": [],
   "source": [
    "def anisotropic_f(v):\n",
    "    return 0.8/pi*(np.exp(-(v-2)[:,None]**2/0.25-(v-2)**2/0.25) + np.exp(-(v+0.5)[:,None]**2-(v+0.5)**2))"
   ]
  },
  {
   "cell_type": "code",
   "execution_count": 34,
   "metadata": {},
   "outputs": [],
   "source": [
    "f0 = anisotropic_f(Q.v)\n",
    "plot_2d(f0, Q.v, 0)"
   ]
  },
  {
   "cell_type": "code",
   "execution_count": 46,
   "metadata": {},
   "outputs": [],
   "source": [
    "%time Q1 = Q.col_new(anisotropic_f(Q.v))\n",
    "%time Q2 = Q.col_sep(anisotropic_f(Q.v))\n",
    "%time Q3 = Q.col_sep_gpu_copy(anisotropic_f(Q.v))\n",
    "np.max(np.abs(Q1 - ext_Q(Q.v))), np.max(np.abs(Q2 - ext_Q(Q.v)))\n",
    "# , np.max(np.abs(Q3 - ext_Q(Q.v)))"
   ]
  },
  {
   "cell_type": "code",
   "execution_count": 4,
   "metadata": {},
   "outputs": [],
   "source": [
    "%time Q3 = Q_new(anisotropic_f(Q.v), device='gpu')\n",
    "np.max(np.abs(Q3 - ext_Q(Q.v)))"
   ]
  },
  {
   "cell_type": "code",
   "execution_count": 5,
   "metadata": {},
   "outputs": [],
   "source": [
    "b = np.arange(3)"
   ]
  },
  {
   "cell_type": "code",
   "execution_count": 17,
   "metadata": {},
   "outputs": [],
   "source": [
    "a = [None]*3"
   ]
  },
  {
   "cell_type": "code",
   "execution_count": 18,
   "metadata": {},
   "outputs": [],
   "source": [
    "a[1]"
   ]
  },
  {
   "cell_type": "code",
   "execution_count": 12,
   "metadata": {},
   "outputs": [],
   "source": [
    "a[0][2] = 2"
   ]
  },
  {
   "cell_type": "code",
   "execution_count": 13,
   "metadata": {},
   "outputs": [],
   "source": [
    "a"
   ]
  },
  {
   "cell_type": "code",
   "execution_count": 6,
   "metadata": {},
   "outputs": [],
   "source": [
    "a = np.random.rand(100, 64, 64)\n",
    "%time Q4 = Q.col_sep(a)\n",
    "%time Q3 = Q_new(a, device='gpu')\n",
    "np.max(np.abs(Q3 - Q4))"
   ]
  },
  {
   "cell_type": "code",
   "execution_count": 6,
   "metadata": {},
   "outputs": [],
   "source": [
    "np.max(np.abs(Q.col_heat(anisotropic_f(Q.v), 0.1) - Q.col_heat_gpu(anisotropic_f(Q.v), 0.1)))"
   ]
  },
  {
   "cell_type": "markdown",
   "metadata": {},
   "source": [
    "We also have $\\rho_0 = 1$, $u_0 = 0$, $E = T$. Temperature $T$ safisfies:\n",
    "\n",
    "$$\n",
    "T=\\left(T_0-\\frac{8\\varepsilon}{1-e^2}\\right)\\exp{\\left(-\\frac{1-e^2}{4}t\\right)}+\\frac{8\\varepsilon}{1-e^2}.\n",
    "$$"
   ]
  },
  {
   "cell_type": "markdown",
   "metadata": {},
   "source": [
    "### Numerical Scheme"
   ]
  },
  {
   "cell_type": "code",
   "execution_count": 16,
   "metadata": {},
   "outputs": [],
   "source": [
    "a = cp.array([1, 2, 3])"
   ]
  },
  {
   "cell_type": "code",
   "execution_count": 25,
   "metadata": {},
   "outputs": [],
   "source": [
    "np.newaxis == None"
   ]
  },
  {
   "cell_type": "code",
   "execution_count": 24,
   "metadata": {},
   "outputs": [],
   "source": [
    "a[(slice(None),) + 3*(np.newaxis,)].device"
   ]
  },
  {
   "cell_type": "code",
   "execution_count": null,
   "metadata": {},
   "outputs": [],
   "source": [
    "from test_2D import TestModule2D\n",
    "config_2D = get_config('./configs/config_2D.json')"
   ]
  },
  {
   "cell_type": "code",
   "execution_count": 11,
   "metadata": {},
   "outputs": [],
   "source": [
    "def plot_err(x, err, rate, name):\n",
    "    fig, ax = plt.subplots()\n",
    "    ax.loglog(x, err, 'o-', label='numerical error of $T$')\n",
    "    ax.loglog(x, np.asarray(x)**rate, label='reference: 3-order')\n",
    "    ax.set_xlabel('$\\Delta t$')\n",
    "    ax.set_ylabel('error of $T$')\n",
    "    ax.set_title('Convergence of RK3 in $\\Delta t$')\n",
    "    ax.legend(fontsize='large')\n",
    "    ax.grid(which='both',linestyle=':')\n",
    "    plt.savefig(name)\n",
    "    plt.show()"
   ]
  },
  {
   "cell_type": "markdown",
   "metadata": {},
   "source": [
    "### Time convergence 1"
   ]
  },
  {
   "cell_type": "code",
   "execution_count": 3,
   "metadata": {},
   "outputs": [],
   "source": [
    "%%time\n",
    "config_2D.domain_config.S = 3.9\n",
    "N = [16, 32, 64]\n",
    "test = TestModule2D(config_2D, bkw_f, N, 0.2, eps=1e-6)"
   ]
  },
  {
   "cell_type": "code",
   "execution_count": 4,
   "metadata": {},
   "outputs": [],
   "source": [
    "%%time\n",
    "# Dt = [0.1, 0.05, 0.02, 0.01, 0.005]\n",
    "# Dt = [0.5, 0.4, 0.2, 0.1, 0.05, 0.04, 0.02, 0.01]\n",
    "# Dt = [0.1]\n",
    "Dt = [0.5, 0.1, 0.01]\n",
    "err, num_f, num_T = test.dt_test(Dt, method='full', N_index=2)"
   ]
  },
  {
   "cell_type": "code",
   "execution_count": null,
   "metadata": {},
   "outputs": [],
   "source": [
    "np.savez('dt_2d_bgk_e_full=0.2', dt=Dt, err=err, num_T=num_T, num_f=num_f)"
   ]
  },
  {
   "cell_type": "code",
   "execution_count": 7,
   "metadata": {},
   "outputs": [],
   "source": [
    "plot_err(Dt, err, 3, 'dt_2d_bgk_e_full=0.2.pdf')"
   ]
  },
  {
   "cell_type": "markdown",
   "metadata": {},
   "source": [
    "### Time convergence 2"
   ]
  },
  {
   "cell_type": "code",
   "execution_count": 17,
   "metadata": {},
   "outputs": [],
   "source": [
    "%%time\n",
    "config_2D.domain_config.S = 4.0\n",
    "N = np.array([8, 16, 32, 64, 128])\n",
    "test = TestModule(config_2D, anisotropic_f, N, 0.2, eps=1e-6)"
   ]
  },
  {
   "cell_type": "code",
   "execution_count": null,
   "metadata": {},
   "outputs": [],
   "source": [
    "%%time\n",
    "Dt = [0.5, 0.4, 0.2, 0.1, 0.05, 0.04, 0.02, 0.01]\n",
    "# Dt = [1, 0.8, 0.7, 0.6, 0.5]\n",
    "err, num_f, num_T = test.dt_test(Dt, method='full')"
   ]
  },
  {
   "cell_type": "code",
   "execution_count": null,
   "metadata": {},
   "outputs": [],
   "source": [
    "np.savez('dt_2d_e_full=0.2', dt=Dt, err=err, num_T=num_T, num_f=num_f)\n",
    "plot_err(Dt, err, 3, 'dt_2d_e_full=0.2.pdf')"
   ]
  },
  {
   "cell_type": "markdown",
   "metadata": {},
   "source": [
    "### N convergence 1"
   ]
  },
  {
   "cell_type": "code",
   "execution_count": null,
   "metadata": {},
   "outputs": [],
   "source": [
    "%%time\n",
    "config_2D.domain_config.S = 3.9\n",
    "\n",
    "N = np.array([8, 16, 32, 64, 128])\n",
    "test = TestModule(config_2D, bkw_f, N, 0.2, eps=1e-6)"
   ]
  },
  {
   "cell_type": "code",
   "execution_count": null,
   "metadata": {},
   "outputs": [],
   "source": [
    "%%time\n",
    "dt = 0.01\n",
    "err_N, num_f, num_T = test.N_test(dt, method='full')"
   ]
  },
  {
   "cell_type": "code",
   "execution_count": null,
   "metadata": {},
   "outputs": [],
   "source": [
    "np.savez('N_2d_bgk_e_full=0.2', N=N, err=err_N, num_T=num_T, num_f=num_f)"
   ]
  },
  {
   "cell_type": "markdown",
   "metadata": {},
   "source": [
    "**$\\text{tfinal} = 2$, $\\Delta t = 0.01$, $e = 0.2$**\n",
    "\n",
    "| $N$ | Separate | Full |\n",
    "| ------ | ------ | ------|\n",
    "| 8 | 9.21116565e-01 | 9.21116565e-01 |\n",
    "| 16 | 1.27634481e-02 |1.27640374e-02 |\n",
    "| 32 | 6.79544555e-06 | 6.79745658e-06 |\n",
    "| 64 | 2.34851361e-10 | 2.36438646e-10 |\n",
    "| 128 | 6.30565600e-11 | 6.13890050e-11 |\n",
    "\n",
    "**$\\text{tfinal} = 2$, $\\Delta t = 0.01$, $e = 0.5$**\n",
    "\n",
    "| $N$ | Separate | Full |\n",
    "| ------ | ------ | ------ |\n",
    "| 8 | 7.98706096e-01 | 7.98706096e-01 |\n",
    "| 16 | 6.42641236e-03 | 6.42644165e-03 |\n",
    "| 32 | 4.55713801e-06 | 4.55730861e-06 |\n",
    "| 64 | 4.93595165e-11 | 4.93770580e-11 |\n",
    "| 128 | 3.13873372e-11 | 3.14279713e-11 |\n",
    "\n",
    "**$\\text{tfinal} = 2$, $\\Delta t = 0.01$, $e = 0.8$**\n",
    "\n",
    "| $N$ | Separate | Full |\n",
    "| ------ | ------ | ------|\n",
    "| 8 | 5.52666966e-01 | 5.52666966e-01 |\n",
    "| 16 | 4.88821204e-04 | 4.88586534e-04  |\n",
    "| 32 | 1.14430393e-07 | 1.13897201e-07   |\n",
    "| 64 | 9.82359749e-11 | 9.82520731e-11   |\n",
    "| 128 | 1.00099595e-10 | 1.00117470e-10   |"
   ]
  },
  {
   "cell_type": "markdown",
   "metadata": {},
   "source": [
    "### N convergence 2"
   ]
  },
  {
   "cell_type": "code",
   "execution_count": null,
   "metadata": {},
   "outputs": [],
   "source": [
    "%%time\n",
    "config_2D.domain_config.S = 4.0\n",
    "\n",
    "N = np.array([8, 16, 32, 64, 128])\n",
    "\n",
    "test2 = TestModule(config_2D, anisotropic_f, N, 0.2, eps=1e-6)\n",
    "test5 = TestModule(config_2D, anisotropic_f, N, 0.5, eps=1e-6)\n",
    "test8 = TestModule(config_2D, anisotropic_f, N, 0.8, eps=1e-6)\n",
    "\n",
    "dt = 0.01\n",
    "\n",
    "err_N2, num_f2, num_T2 = test2.N_test(dt)\n",
    "err_N5, num_f5, num_T5 = test5.N_test(dt)\n",
    "err_N8, num_f8, num_T8 = test8.N_test(dt)\n",
    "\n",
    "err_N2_full, num_f2_full, num_T2_full = test2.N_test(dt, method='full')\n",
    "err_N5_full, num_f5_full, num_T5_full = test5.N_test(dt, method='full')\n",
    "err_N8_full, num_f8_full, num_T8_full = test8.N_test(dt, method='full')\n",
    "\n",
    "\n",
    "np.savez('N_2d_e=0.2', N=N, err=err_N2, num_T=num_T2, num_f=num_f2)\n",
    "np.savez('N_2d_e=0.5', N=N, err=err_N5, num_T=num_T5, num_f=num_f5)\n",
    "np.savez('N_2d_e=0.8', N=N, err=err_N8, num_T=num_T8, num_f=num_f8)\n",
    "\n",
    "np.savez('N_2d_e_full=0.2', N=N, err=err_N2_full, num_T=num_T2_full, num_f=num_f2_full)\n",
    "np.savez('N_2d_e_full=0.5', N=N, err=err_N5_full, num_T=num_T5_full, num_f=num_f5_full)\n",
    "np.savez('N_2d_e_full=0.8', N=N, err=err_N8_full, num_T=num_T8_full, num_f=num_f8_full)"
   ]
  },
  {
   "cell_type": "markdown",
   "metadata": {},
   "source": [
    "**$\\text{tfinal} = 2$, $\\Delta t = 0.01$, $e = 0.2$**\n",
    "\n",
    "| $N$ | Separate | Full |\n",
    "| ------ | ------ | ------|\n",
    "| 8 | 1.25303916e-01 | 1.25303916e-01 |\n",
    "| 16 | 1.41601818e-02 |1.42811856e-02 |\n",
    "| 32 | 1.21162093e-04 | 8.50383206e-05 |\n",
    "| 64 | 8.65618628e-08 | 5.75217760e-05 |\n",
    "| 128 | 2.64749862e-08 | 5.74603408e-05 |\n",
    "\n",
    "**$\\text{tfinal} = 2$, $\\Delta t = 0.01$, $e = 0.5$**\n",
    "\n",
    "| $N$ | Separate | Full |\n",
    "| ------ | ------ | ------ |\n",
    "| 8 | 9.06935081e-02 | 9.06935081e-02 |\n",
    "| 16 | 2.06153352e-02 | 2.07345865e-02 |\n",
    "| 32 | 1.08598123e-04 | 7.68575010e-05 |\n",
    "| 64 | 3.61540865e-08 | 4.58166915e-05 |\n",
    "| 128 | 4.84827622e-09 | 4.57852460e-05 |\n",
    "\n",
    "**$\\text{tfinal} = 2$, $\\Delta t = 0.01$, $e = 0.8$**\n",
    "\n",
    "| $N$ | Separate | Full |\n",
    "| ------ | ------ | ------|\n",
    "| 8 | 4.21932177e-02 | 4.21932177e-02 |\n",
    "| 16 | 2.19257970e-02 | 2.17989934e-02  |\n",
    "| 32 | 1.25546782e-04 | 1.17000137e-04   |\n",
    "| 64 | 1.55334599e-08 | 2.42867607e-05   |\n",
    "| 128 |  5.91159477e-09 | 2.42767854e-05   |"
   ]
  }
 ],
 "metadata": {
  "kernelspec": {
   "display_name": "Python 3",
   "language": "python",
   "name": "python3"
  },
  "language_info": {
   "codemirror_mode": {
    "name": "ipython",
    "version": 3
   },
   "file_extension": ".py",
   "mimetype": "text/x-python",
   "name": "python",
   "nbconvert_exporter": "python",
   "pygments_lexer": "ipython3",
   "version": "3.8.6-final"
  }
 },
 "nbformat": 4,
 "nbformat_minor": 4
}