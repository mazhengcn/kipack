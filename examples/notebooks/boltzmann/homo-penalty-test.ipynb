{
 "cells": [
  {
   "cell_type": "code",
   "execution_count": 1,
   "metadata": {},
   "outputs": [],
   "source": [
    "import os\n",
    "os.chdir(\"/home/zheng/projects/kipack/tests/\")\n",
    "\n",
    "%matplotlib inline\n",
    "import matplotlib.pyplot as plt\n",
    "import numpy as np"
   ]
  },
  {
   "cell_type": "code",
   "execution_count": 2,
   "metadata": {},
   "outputs": [
    {
     "name": "stdout",
     "output_type": "stream",
     "text": [
      "2 dimensional collision model.\n",
      "Number of velocity cells: 64.\n",
      "Velocity domain: [-7.724873734152916, 7.724873734152916].\n",
      "e: 0.9\n",
      "Finished collision model precomputation.\n",
      "tau is 0.0.\n"
     ]
    },
    {
     "data": {
      "application/vnd.jupyter.widget-view+json": {
       "model_id": "a045e176e3a24cc4bf76768306d36b39",
       "version_major": 2,
       "version_minor": 0
      },
      "text/plain": [
       "HBox(children=(FloatProgress(value=0.0, max=10.0), HTML(value='')))"
      ]
     },
     "metadata": {},
     "output_type": "display_data"
    },
    {
     "name": "stdout",
     "output_type": "stream",
     "text": [
      "\n"
     ]
    }
   ],
   "source": [
    "from penalization_0d import run, ext_T\n",
    "\n",
    "kn = 1e-3\n",
    "dt = 1e-2\n",
    "nt = 10\n",
    "tau = 0\n",
    "tfinal = dt * nt\n",
    "T_frames, sol_frames, vmesh, coll, solver = run(kn=kn, tau=tau, p=20, dt=dt, nt=nt, scheme=\"BEuler\")"
   ]
  },
  {
   "cell_type": "code",
   "execution_count": 3,
   "metadata": {},
   "outputs": [],
   "source": [
    "t = np.arange(0, tfinal, dt)\n",
    "rho0, _, T0 = vmesh.get_p(sol_frames[0].q)\n",
    "ref_T = ext_T(t, 0.9, kn, tau, rho0, T0)"
   ]
  },
  {
   "cell_type": "code",
   "execution_count": 4,
   "metadata": {},
   "outputs": [
    {
     "data": {
      "text/plain": [
       "Text(0.5, 0, 't')"
      ]
     },
     "execution_count": 4,
     "metadata": {},
     "output_type": "execute_result"
    },
    {
     "data": {
      "image/png": "[encoded data removed]",
      "text/plain": [
       "<Figure size 432x288 with 1 Axes>"
      ]
     },
     "metadata": {
      "needs_background": "light"
     },
     "output_type": "display_data"
    }
   ],
   "source": [
    "fig, ax = plt.subplots(1, 1)\n",
    "\n",
    "ax.plot(t, ref_T)\n",
    "ax.plot(t, T_frames)\n",
    "\n",
    "ax.grid(which='both',linestyle=':')\n",
    "ax.set_xlabel(\"t\")"
   ]
  }
 ],
 "metadata": {
  "kernelspec": {
   "display_name": "Python [conda env:kipack]",
   "language": "python",
   "name": "conda-env-kipack-py"
  },
  "language_info": {
   "codemirror_mode": {
    "name": "ipython",
    "version": 3
   },
   "file_extension": ".py",
   "mimetype": "text/x-python",
   "name": "python",
   "nbconvert_exporter": "python",
   "pygments_lexer": "ipython3",
   "version": "3.8.2"
  }
 },
 "nbformat": 4,
 "nbformat_minor": 4
}
