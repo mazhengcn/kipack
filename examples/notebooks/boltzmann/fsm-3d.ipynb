{
 "cells": [
  {
   "cell_type": "markdown",
   "metadata": {},
   "source": [
    "# The fast spectral method for 3D\n"
   ]
  },
  {
   "cell_type": "code",
   "execution_count": 1,
   "metadata": {},
   "outputs": [],
   "source": [
    "import numpy as np\n",
    "from math import pi\n",
    "from absl import logging\n",
    "import time\n",
    "import jax\n",
    "\n",
    "from kipack.collision.inelastic import FSInelasticVHSCollision\n",
    "from kipack.collision.vmesh import SpectralMesh\n",
    "from config import get_config\n",
    "\n",
    "logging.set_verbosity(\"info\")"
   ]
  },
  {
   "cell_type": "code",
   "execution_count": 2,
   "metadata": {},
   "outputs": [],
   "source": [
    "def isotropic_f(v):\n",
    "    t = 6.5\n",
    "    K = 1 - np.exp(-t / 6)\n",
    "    v_norm = v[:, None, None] ** 2 + v[:, None] ** 2 + v ** 2\n",
    "    return (\n",
    "        1\n",
    "        / (2 * (2 * pi * K) ** (3 / 2))\n",
    "        * np.exp(-(v_norm) / (2 * K))\n",
    "        * ((5 * K - 3) / K + (1 - K) / (K ** 2) * (v_norm))\n",
    "    )\n",
    "\n",
    "\n",
    "def extQ(v):\n",
    "    t = 6.5\n",
    "    K = 1 - np.exp(-t / 6)\n",
    "    dK = np.exp(-t / 6) / 6\n",
    "    v_norm = v[:, None, None] ** 2 + v[:, None] ** 2 + v ** 2\n",
    "    df = (-3 / (2 * K) + (v_norm) / (2 * K ** 2)) * isotropic_f(v) + 1 / (\n",
    "        2 * (2 * pi * K) ** (3 / 2)\n",
    "    ) * np.exp(-v_norm / (2 * K)) * (3 / (K ** 2) + (K - 2) / (K ** 3) * v_norm)\n",
    "    return df * dK\n",
    "\n",
    "\n",
    "def anisotropic_f(v):\n",
    "    return (\n",
    "        0.8\n",
    "        * pi ** (-1.5)\n",
    "        * (\n",
    "            np.exp(\n",
    "                -(16 ** (1 / 3))\n",
    "                * (\n",
    "                    (v - 2)[:, None, None] ** 2\n",
    "                    + (v - 2)[:, None] ** 2\n",
    "                    + (v - 2) ** 2\n",
    "                )\n",
    "            )\n",
    "            + np.exp(\n",
    "                -(v + 0.5)[:, None, None] ** 2\n",
    "                - (v + 0.5)[:, None] ** 2\n",
    "                - (v + 0.5) ** 2\n",
    "            )\n",
    "        )\n",
    "    )\n",
    "\n",
    "\n",
    "def maxwellian(v, rho, u, T):\n",
    "    v_u = (\n",
    "        ((v - u[0]) ** 2)[:, None, None]\n",
    "        + ((v - u[1]) ** 2)[:, None]\n",
    "        + (v - u[2]) ** 2\n",
    "    )\n",
    "    return rho / (2 * pi * T) ** (3 / 2) * np.exp(-v_u / (2 * T))\n"
   ]
  },
  {
   "cell_type": "code",
   "execution_count": 3,
   "metadata": {},
   "outputs": [
    {
     "name": "stderr",
     "output_type": "stream",
     "text": [
      "INFO:absl:3 dimensional collision model.\n",
      "INFO:absl:Number of velocity cells: 32.\n",
      "INFO:absl:Velocity domain: [-8.82842712474619, 8.82842712474619].\n"
     ]
    }
   ],
   "source": [
    "cfg = get_config(\"3d\")\n",
    "vmesh = SpectralMesh(cfg)"
   ]
  },
  {
   "cell_type": "markdown",
   "metadata": {},
   "source": [
    "## On CPU using pyFFTW\n"
   ]
  },
  {
   "cell_type": "code",
   "execution_count": 8,
   "metadata": {},
   "outputs": [
    {
     "name": "stderr",
     "output_type": "stream",
     "text": [
      "INFO:absl:e: 1.0\n",
      "INFO:absl:Collision model precomputation finishes!\n"
     ]
    },
    {
     "name": "stdout",
     "output_type": "stream",
     "text": [
      "Runtime: 1132.86ms, error: 2.6901211073158564e-06\n"
     ]
    }
   ],
   "source": [
    "coll_pyfftw = FSInelasticVHSCollision(cfg, vmesh, use_pyfftw=True)\n",
    "\n",
    "t_0 = time.time()\n",
    "Q = coll_pyfftw(isotropic_f(vmesh.center))\n",
    "dt = time.time() - t_0\n",
    "\n",
    "print(\n",
    "    f\"Runtime: {1000 * dt:.2f}ms, error: {np.max(np.abs(Q - extQ(vmesh.center)))}\"\n",
    ")\n"
   ]
  },
  {
   "cell_type": "markdown",
   "metadata": {},
   "source": [
    "## On GPU using Cupy\n"
   ]
  },
  {
   "cell_type": "code",
   "execution_count": 9,
   "metadata": {},
   "outputs": [
    {
     "name": "stderr",
     "output_type": "stream",
     "text": [
      "INFO:absl:e: 1.0\n"
     ]
    }
   ],
   "source": [
    "coll_jax = FSInelasticVHSCollision(cfg, vmesh)\n",
    "\n",
    "coll = jax.jit(lambda x: coll_jax(x))"
   ]
  },
  {
   "cell_type": "code",
   "execution_count": 14,
   "metadata": {},
   "outputs": [
    {
     "name": "stdout",
     "output_type": "stream",
     "text": [
      "Runtime: 2.15ms, error: 2.6918714866042137e-06\n"
     ]
    }
   ],
   "source": [
    "t_0 = time.time()\n",
    "Q = coll(isotropic_f(vmesh.center))\n",
    "dt = time.time() - t_0\n",
    "\n",
    "print(\n",
    "    f\"Runtime: {1000 * dt:.2f}ms, error: {np.max(np.abs(Q - extQ(vmesh.center)))}\"\n",
    ")\n"
   ]
  }
 ],
 "metadata": {
  "interpreter": {
   "hash": "c3ecfbb2e518759e8150e3a4e02d9374d8d11351137435699613669ebcf0f527"
  },
  "kernelspec": {
   "display_name": "Python [conda env:inelastic-boltzmann]",
   "language": "python",
   "name": "python3"
  },
  "language_info": {
   "codemirror_mode": {
    "name": "ipython",
    "version": 3
   },
   "file_extension": ".py",
   "mimetype": "text/x-python",
   "name": "python",
   "nbconvert_exporter": "python",
   "pygments_lexer": "ipython3",
   "version": "3.11.3"
  }
 },
 "nbformat": 4,
 "nbformat_minor": 4
}
