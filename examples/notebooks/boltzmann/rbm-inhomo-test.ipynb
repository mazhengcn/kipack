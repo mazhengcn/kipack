{
 "cells": [
  {
   "cell_type": "code",
   "execution_count": 1,
   "metadata": {},
   "outputs": [],
   "source": [
    "%reload_ext autoreload\n",
    "%autoreload 2\n",
    "%matplotlib inline\n",
    "\n",
    "import os\n",
    "os.chdir(\"../\")"
   ]
  },
  {
   "cell_type": "code",
   "execution_count": 2,
   "metadata": {},
   "outputs": [],
   "source": [
    "import logging\n",
    "\n",
    "logger = logging.getLogger(\"pyclaw\")\n",
    "logger.setLevel(logging.CRITICAL)\n",
    "\n",
    "%matplotlib inline\n",
    "import matplotlib.pyplot as plt\n",
    "import cupy as cp\n",
    "# cp.cuda.Device(1).use()\n",
    "\n",
    "from rbm_1d import run"
   ]
  },
  {
   "cell_type": "code",
   "execution_count": 3,
   "metadata": {
    "tags": []
   },
   "outputs": [
    {
     "name": "stdout",
     "output_type": "stream",
     "text": [
      "2 dimensional collision model.\n",
      "Number of velocity cells: 60.\n",
      "Velocity domain: [-5.517766952966369, 5.517766952966369].\n",
      "dt is 0.001\n",
      "500/500 [==============================] - 25s 50ms/step\n"
     ]
    }
   ],
   "source": [
    "output_rbm = run(kn=1, dt=1e-3, nt=500, eps=(0.2, 2), coll=\"rbm\", scheme=\"Euler\")"
   ]
  },
  {
   "cell_type": "code",
   "execution_count": 10,
   "metadata": {},
   "outputs": [
    {
     "name": "stdout",
     "output_type": "stream",
     "text": [
      "2 dimensional collision model.\n",
      "Number of velocity cells: 64.\n",
      "Velocity domain: [-7.724873734152916, 7.724873734152916].\n",
      "e: 1\n",
      "Finished collision model precomputation.\n",
      "dt is 0.001\n",
      "500/500 [==============================] - 103s 207ms/step\n"
     ]
    }
   ],
   "source": [
    "output_fsm = run(kn=1, dt=1e-3, nt=500, coll=\"fsm\", scheme=\"Euler\", euler_solver=False)"
   ]
  },
  {
   "cell_type": "code",
   "execution_count": 5,
   "metadata": {},
   "outputs": [
    {
     "ename": "NameError",
     "evalue": "name 'output_fsm' is not defined",
     "output_type": "error",
     "traceback": [
      "\u001b[0;31m---------------------------------------------------------------------------\u001b[0m",
      "\u001b[0;31mNameError\u001b[0m                                 Traceback (most recent call last)",
      "\u001b[0;32m<ipython-input-5-5193fe96ff5b>\u001b[0m in \u001b[0;36m<module>\u001b[0;34m\u001b[0m\n\u001b[1;32m      7\u001b[0m \u001b[0;34m\u001b[0m\u001b[0m\n\u001b[1;32m      8\u001b[0m \u001b[0;31m# euler_macro = output_fsm[\"euler_macro\"]\u001b[0m\u001b[0;34m\u001b[0m\u001b[0;34m\u001b[0m\u001b[0;34m\u001b[0m\u001b[0m\n\u001b[0;32m----> 9\u001b[0;31m \u001b[0mmacro_fsm\u001b[0m \u001b[0;34m=\u001b[0m \u001b[0moutput_fsm\u001b[0m\u001b[0;34m[\u001b[0m\u001b[0;34m\"macro_frames\"\u001b[0m\u001b[0;34m]\u001b[0m\u001b[0;34m\u001b[0m\u001b[0;34m\u001b[0m\u001b[0m\n\u001b[0m\u001b[1;32m     10\u001b[0m \u001b[0mmacro_rbm\u001b[0m \u001b[0;34m=\u001b[0m \u001b[0moutput_rbm\u001b[0m\u001b[0;34m[\u001b[0m\u001b[0;34m\"macro_frames\"\u001b[0m\u001b[0;34m]\u001b[0m\u001b[0;34m\u001b[0m\u001b[0;34m\u001b[0m\u001b[0m\n\u001b[1;32m     11\u001b[0m \u001b[0;34m\u001b[0m\u001b[0m\n",
      "\u001b[0;31mNameError\u001b[0m: name 'output_fsm' is not defined"
     ]
    }
   ],
   "source": [
    "import numpy as np\n",
    "\n",
    "t_idx = -1\n",
    "\n",
    "x = np.arange(0, 1, 0.01)\n",
    "fig, axes = plt.subplots(1, 3, figsize=(18, 4))\n",
    "\n",
    "# euler_macro = output_fsm[\"euler_macro\"]\n",
    "macro_fsm = output_fsm[\"macro_frames\"]\n",
    "macro_rbm = output_rbm[\"macro_frames\"]\n",
    "\n",
    "# axes[0].plot(x, euler_macro[0])\n",
    "axes[0].plot(x, macro_fsm[t_idx][0], \"o\")\n",
    "axes[0].plot(x, macro_rbm[t_idx][0], \"*\")\n",
    "# axes[1].plot(x, euler_macro[1])\n",
    "axes[1].plot(x, macro_fsm[t_idx][1][0], \"o\")\n",
    "axes[1].plot(x, macro_rbm[t_idx][1][0], \"*\")\n",
    "# axes[2].plot(x, euler_macro[2])\n",
    "axes[2].plot(x, macro_fsm[t_idx][2], \"o\")\n",
    "axes[2].plot(x, macro_rbm[t_idx][2], \"*\")\n",
    "\n",
    "for ax in axes:\n",
    "    ax.set_xlabel(r'x')\n",
    "    ax.grid(which='both',linestyle=':')\n",
    "#     iax.legend()"
   ]
  }
 ],
 "metadata": {
  "kernelspec": {
   "display_name": "Python 3",
   "language": "python",
   "name": "python3"
  },
  "language_info": {
   "codemirror_mode": {
    "name": "ipython",
    "version": 3
   },
   "file_extension": ".py",
   "mimetype": "text/x-python",
   "name": "python",
   "nbconvert_exporter": "python",
   "pygments_lexer": "ipython3",
   "version": "3.8.5"
  }
 },
 "nbformat": 4,
 "nbformat_minor": 4
}
