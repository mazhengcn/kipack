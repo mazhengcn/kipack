{
 "cells": [
  {
   "cell_type": "code",
   "execution_count": null,
   "metadata": {
    "vscode": {
     "end_execution_time": "2020-08-24T01:30:40.935Z",
     "start_execution_time": "2020-08-24T01:30:40.554Z"
    }
   },
   "outputs": [],
   "source": [
    "%reload_ext autoreload\n",
    "%autoreload 2\n",
    "%matplotlib inline\n",
    "\n",
    "import os\n",
    "os.chdir(\"/home/vscode/kipack/\")"
   ]
  },
  {
   "cell_type": "code",
   "execution_count": null,
   "metadata": {
    "vscode": {
     "end_execution_time": "2020-08-24T01:33:36.829Z",
     "start_execution_time": "2020-08-24T01:33:36.785Z"
    }
   },
   "outputs": [],
   "source": [
    "import json\n",
    "\n",
    "import logging\n",
    "\n",
    "logger = logging.getLogger(\"pyclaw\")\n",
    "logger.setLevel(logging.CRITICAL)\n",
    "\n",
    "import matplotlib.pyplot as plt   \n",
    "import numpy as np\n",
    "import cupy as cp"
   ]
  },
  {
   "cell_type": "code",
   "execution_count": null,
   "metadata": {
    "tags": [],
    "vscode": {
     "end_execution_time": "2020-08-24T01:33:58.734Z",
     "start_execution_time": "2020-08-24T01:33:57.244Z"
    }
   },
   "outputs": [],
   "source": [
    "from examples.linear_transport.rbm_0d import run\n",
    "dt = 0.001\n",
    "nt = 500\n",
    "tfinal = dt * nt\n",
    "macro_frames, sol_frames, dv = run(dt=dt, nt=nt, coll=\"linear\", scheme=\"Euler\")"
   ]
  },
  {
   "cell_type": "code",
   "execution_count": null,
   "metadata": {
    "vscode": {
     "end_execution_time": "2020-08-23T13:20:10.526Z",
     "start_execution_time": "2020-08-23T13:20:10.478Z"
    }
   },
   "outputs": [],
   "source": [
    "rho, m, E = zip(*macro_frames)\n",
    "sols, err = zip(*sol_frames)"
   ]
  },
  {
   "cell_type": "code",
   "execution_count": null,
   "metadata": {},
   "outputs": [],
   "source": [
    "def ext_E(t):\n",
    "    return (E[0] - 1/6 * rho[0]) * np.exp(-t) + 1/6 * rho[0]"
   ]
  },
  {
   "cell_type": "code",
   "execution_count": null,
   "metadata": {
    "vscode": {
     "end_execution_time": "2020-08-23T13:20:14.005Z",
     "start_execution_time": "2020-08-23T13:20:13.198Z"
    }
   },
   "outputs": [],
   "source": [
    "t_idx = -1\n",
    "\n",
    "t = np.arange(0, tfinal, dt)\n",
    "fig, axes = plt.subplots(1, 3, figsize=(12,3))\n",
    "\n",
    "axes[0].plot(t, rho, label=r\"$\\rho$\")\n",
    "axes[1].plot(t, m, label=r\"$u_x$, $u_y$\")\n",
    "axes[2].plot(t, E, \"*\", t, ext_E(t), label=r\"T\")\n",
    "\n",
    "for ax, y in zip(axes, [\"rho\", \"u\", \"T\"]):\n",
    "    ax.set_xlabel(\"t\")\n",
    "    ax.set_ylabel(y)\n",
    "    ax.legend()\n",
    "    ax.grid(which='both',linestyle=':')\n",
    "\n",
    "fig.suptitle(\"FSM macros\")\n",
    "# fig.savefig(\"../figs/fsm_macros.pdf\")"
   ]
  },
  {
   "cell_type": "code",
   "execution_count": null,
   "metadata": {
    "vscode": {
     "end_execution_time": "2020-08-23T13:08:45.160Z",
     "start_execution_time": "2020-08-23T13:08:44.810Z"
    }
   },
   "outputs": [],
   "source": [
    "fig, ax = plt.subplots(figsize=(4,3))\n",
    "\n",
    "ax.plot(t, err, label=r\"$\\ell^2$ error\")\n",
    "ax.set_xlabel(\"t\")\n",
    "ax.set_ylabel(\"error\")\n",
    "ax.legend()\n",
    "ax.grid(which='both',linestyle=':')\n",
    "\n",
    "fig.suptitle(\"FSM error\")\n",
    "# fig.savefig(\"../figs/fsm_err.pdf\")"
   ]
  },
  {
   "cell_type": "code",
   "execution_count": null,
   "metadata": {
    "vscode": {
     "end_execution_time": "2020-08-23T12:55:07.087Z",
     "start_execution_time": "2020-08-23T12:55:06.440Z"
    }
   },
   "outputs": [],
   "source": [
    "fig, ax = plt.subplots(1, 2, figsize=(8, 3))\n",
    "\n",
    "ax[0].contour(sols[-1].q)\n",
    "ax[0].set_xlabel(r\"$v_x$\")\n",
    "ax[0].set_ylabel(r\"$v_y$\")\n",
    "ax[0].grid(which='both',linestyle=':')\n",
    "\n",
    "ax[1].plot(sols[-1].q[:, 30])\n",
    "ax[1].set_xlabel(r\"$v_x$\")\n",
    "ax[1].set_ylabel(r\"$f(0, 15)$\")\n",
    "ax[1].grid(which='both',linestyle=':')\n",
    "\n",
    "fig.suptitle(\"FSM solution at $t_{final}=1$\")\n",
    "# fig.savefig(\"../figs/fsm_sol.pdf\")"
   ]
  }
 ],
 "metadata": {
  "kernelspec": {
   "display_name": "Python 3",
   "language": "python",
   "name": "python3"
  },
  "language_info": {
   "codemirror_mode": {
    "name": "ipython",
    "version": 3
   },
   "file_extension": ".py",
   "mimetype": "text/x-python",
   "name": "python",
   "nbconvert_exporter": "python",
   "pygments_lexer": "ipython3",
   "version": "3.10.1"
  }
 },
 "nbformat": 4,
 "nbformat_minor": 4
}
