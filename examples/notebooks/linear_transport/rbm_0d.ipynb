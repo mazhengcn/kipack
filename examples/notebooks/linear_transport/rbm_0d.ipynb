{
 "cells": [
  {
   "cell_type": "code",
   "execution_count": 1,
   "metadata": {},
   "outputs": [],
   "source": [
    "%reload_ext autoreload\n",
    "%autoreload 2\n",
    "%matplotlib inline\n",
    "\n",
    "import os\n",
    "os.chdir(\"/workspaces/kipack\")\n",
    "\n",
    "os.environ[\"CUDA_VISIBLE_DEVICES\"] = \"3\""
   ]
  },
  {
   "cell_type": "code",
   "execution_count": 2,
   "metadata": {},
   "outputs": [],
   "source": [
    "import json\n",
    "\n",
    "import logging\n",
    "\n",
    "logger = logging.getLogger(\"pyclaw\")\n",
    "logger.setLevel(logging.CRITICAL)\n",
    "\n",
    "import matplotlib.pyplot as plt   \n",
    "import numpy as np"
   ]
  },
  {
   "cell_type": "code",
   "execution_count": 5,
   "metadata": {
    "tags": []
   },
   "outputs": [
    {
     "name": "stdout",
     "output_type": "stream",
     "text": [
      "500/500 [==============================] - 1s 1ms/step\n"
     ]
    }
   ],
   "source": [
    "from examples.linear_transport.rbm_0d import run\n",
    "dt = 0.001\n",
    "nt = 500\n",
    "tfinal = dt * nt\n",
    "output = run(dt=dt, nt=nt, coll=\"linear\", scheme=\"Euler\")"
   ]
  },
  {
   "cell_type": "code",
   "execution_count": 11,
   "metadata": {},
   "outputs": [
    {
     "ename": "TypeError",
     "evalue": "'numpy.float64' object is not iterable",
     "output_type": "error",
     "traceback": [
      "\u001b[0;31m---------------------------------------------------------------------------\u001b[0m",
      "\u001b[0;31mTypeError\u001b[0m                                 Traceback (most recent call last)",
      "Cell \u001b[0;32mIn[11], line 1\u001b[0m\n\u001b[0;32m----> 1\u001b[0m \u001b[39mzip\u001b[39;49m(\u001b[39m*\u001b[39;49moutput[\u001b[39m\"\u001b[39;49m\u001b[39mmacro_frames\u001b[39;49m\u001b[39m\"\u001b[39;49m])\n",
      "\u001b[0;31mTypeError\u001b[0m: 'numpy.float64' object is not iterable"
     ]
    }
   ],
   "source": [
    "zip(*output[\"macro_frames\"])"
   ]
  },
  {
   "cell_type": "code",
   "execution_count": 10,
   "metadata": {},
   "outputs": [
    {
     "ename": "TypeError",
     "evalue": "'numpy.float64' object is not iterable",
     "output_type": "error",
     "traceback": [
      "\u001b[0;31m---------------------------------------------------------------------------\u001b[0m",
      "\u001b[0;31mTypeError\u001b[0m                                 Traceback (most recent call last)",
      "Cell \u001b[0;32mIn[10], line 1\u001b[0m\n\u001b[0;32m----> 1\u001b[0m rho \u001b[39m=\u001b[39m \u001b[39mzip\u001b[39;49m(\u001b[39m*\u001b[39;49moutput[\u001b[39m\"\u001b[39;49m\u001b[39mmacro_frames\u001b[39;49m\u001b[39m\"\u001b[39;49m])\n\u001b[1;32m      2\u001b[0m sols, err \u001b[39m=\u001b[39m \u001b[39mzip\u001b[39m(\u001b[39m*\u001b[39moutput[\u001b[39m\"\u001b[39m\u001b[39msol_frames\u001b[39m\u001b[39m\"\u001b[39m])\n",
      "\u001b[0;31mTypeError\u001b[0m: 'numpy.float64' object is not iterable"
     ]
    }
   ],
   "source": [
    "rho = zip(*output[\"macro_frames\"])\n",
    "sols, err = zip(*output[\"sol_frames\"])"
   ]
  },
  {
   "cell_type": "code",
   "execution_count": null,
   "metadata": {},
   "outputs": [],
   "source": [
    "def ext_E(t):\n",
    "    return (E[0] - 1/6 * rho[0]) * np.exp(-t) + 1/6 * rho[0]"
   ]
  },
  {
   "cell_type": "code",
   "execution_count": null,
   "metadata": {},
   "outputs": [],
   "source": [
    "t_idx = -1\n",
    "\n",
    "t = np.arange(0, tfinal, dt)\n",
    "fig, axes = plt.subplots(1, 3, figsize=(12,3))\n",
    "\n",
    "axes[0].plot(t, rho, label=r\"$\\rho$\")\n",
    "axes[1].plot(t, m, label=r\"$u_x$, $u_y$\")\n",
    "axes[2].plot(t, E, \"*\", t, ext_E(t), label=r\"T\")\n",
    "\n",
    "for ax, y in zip(axes, [\"rho\", \"u\", \"T\"]):\n",
    "    ax.set_xlabel(\"t\")\n",
    "    ax.set_ylabel(y)\n",
    "    ax.legend()\n",
    "    ax.grid(which='both',linestyle=':')\n",
    "\n",
    "fig.suptitle(\"FSM macros\")\n",
    "# fig.savefig(\"../figs/fsm_macros.pdf\")"
   ]
  },
  {
   "cell_type": "code",
   "execution_count": null,
   "metadata": {},
   "outputs": [],
   "source": [
    "fig, ax = plt.subplots(figsize=(4,3))\n",
    "\n",
    "ax.plot(t, err, label=r\"$\\ell^2$ error\")\n",
    "ax.set_xlabel(\"t\")\n",
    "ax.set_ylabel(\"error\")\n",
    "ax.legend()\n",
    "ax.grid(which='both',linestyle=':')\n",
    "\n",
    "fig.suptitle(\"FSM error\")\n",
    "# fig.savefig(\"../figs/fsm_err.pdf\")"
   ]
  },
  {
   "cell_type": "code",
   "execution_count": null,
   "metadata": {},
   "outputs": [],
   "source": [
    "fig, ax = plt.subplots(1, 2, figsize=(8, 3))\n",
    "\n",
    "ax[0].contour(sols[-1].q)\n",
    "ax[0].set_xlabel(r\"$v_x$\")\n",
    "ax[0].set_ylabel(r\"$v_y$\")\n",
    "ax[0].grid(which='both',linestyle=':')\n",
    "\n",
    "ax[1].plot(sols[-1].q[:, 30])\n",
    "ax[1].set_xlabel(r\"$v_x$\")\n",
    "ax[1].set_ylabel(r\"$f(0, 15)$\")\n",
    "ax[1].grid(which='both',linestyle=':')\n",
    "\n",
    "fig.suptitle(\"FSM solution at $t_{final}=1$\")\n",
    "# fig.savefig(\"../figs/fsm_sol.pdf\")"
   ]
  }
 ],
 "metadata": {
  "kernelspec": {
   "display_name": "Python 3",
   "language": "python",
   "name": "python3"
  },
  "language_info": {
   "codemirror_mode": {
    "name": "ipython",
    "version": 3
   },
   "file_extension": ".py",
   "mimetype": "text/x-python",
   "name": "python",
   "nbconvert_exporter": "python",
   "pygments_lexer": "ipython3",
   "version": "3.11.3"
  }
 },
 "nbformat": 4,
 "nbformat_minor": 4
}
